{
 "cells": [
  {
   "cell_type": "code",
   "execution_count": 102,
   "metadata": {},
   "outputs": [],
   "source": [
    "from pytube import YouTube\n",
    "from pathlib import Path"
   ]
  },
  {
   "cell_type": "code",
   "execution_count": 112,
   "metadata": {},
   "outputs": [],
   "source": [
    "class YoutubeDownloader:\n",
    "    \"\"\"\n",
    "    Class representing...\n",
    "\n",
    "    Args:\n",
    "        url (str): The URL for video\n",
    "        output_path (str, optional): The path where video downloaded. can be a Path object, path string or current working directory(default).\n",
    "        resolution (str, optional): The resolution setting. Can be 'highest', 'lowest', or None (default).\n",
    "\n",
    "    Raises:\n",
    "        ValueError: If resolution is provided and is not 'highest' or 'lowest'.\n",
    "    \"\"\"\n",
    "    def __init__(self, url: str, output_path=None, resolution: str = None):\n",
    "        self.url = url\n",
    "\n",
    "        # if output_path is not defined, default is set to current working directory\n",
    "        self.output_path = output_path or Path().cwd()\n",
    "\n",
    "        if resolution is not None and resolution not in ['highest', 'lowest']:\n",
    "            raise ValueError(\"Resolution must be either 'highest' or 'lowest'\")\n",
    "\n",
    "        self.resolution = resolution\n",
    "\n",
    "        self.yt = YouTube(self.url)\n",
    "\n",
    "    def download(self):\n",
    "\n",
    "        if self.resolution == 'highest':\n",
    "            stream = self.yt.streams.filter(\n",
    "                file_extension='mp4',\n",
    "                progressive=True\n",
    "            ).get_highest_resolution()\n",
    "        elif self.resolution == 'lowest':\n",
    "            stream = self.yt.streams.filter(\n",
    "                file_extension='mp4',\n",
    "                progressive=True\n",
    "            ).get_lowest_resolution()\n",
    "        else:\n",
    "            stream = self.yt.streams.filter(\n",
    "                file_extension='mp4',\n",
    "                progressive=True\n",
    "            ).first()\n",
    "\n",
    "        stream.download(output_path=self.output_path)"
   ]
  },
  {
   "cell_type": "code",
   "execution_count": 119,
   "metadata": {},
   "outputs": [
    {
     "data": {
      "text/plain": [
       "'lowest'"
      ]
     },
     "execution_count": 119,
     "metadata": {},
     "output_type": "execute_result"
    }
   ],
   "source": [
    "yt_dl = YoutubeDownloader(\"https://www.youtube.com/watch?v=sLhInuwdwcc\", resolution='lowest')\n",
    "yt_dl.resolution"
   ]
  },
  {
   "cell_type": "code",
   "execution_count": 116,
   "metadata": {},
   "outputs": [],
   "source": [
    "yt_dl.download()"
   ]
  },
  {
   "cell_type": "code",
   "execution_count": null,
   "metadata": {},
   "outputs": [],
   "source": []
  }
 ],
 "metadata": {
  "kernelspec": {
   "display_name": "amir",
   "language": "python",
   "name": "python3"
  },
  "language_info": {
   "codemirror_mode": {
    "name": "ipython",
    "version": 3
   },
   "file_extension": ".py",
   "mimetype": "text/x-python",
   "name": "python",
   "nbconvert_exporter": "python",
   "pygments_lexer": "ipython3",
   "version": "3.8.12"
  }
 },
 "nbformat": 4,
 "nbformat_minor": 2
}
